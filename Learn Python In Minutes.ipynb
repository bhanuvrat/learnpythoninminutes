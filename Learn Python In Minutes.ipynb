{
 "metadata": {
  "name": ""
 },
 "nbformat": 3,
 "nbformat_minor": 0,
 "worksheets": [
  {
   "cells": [
    {
     "cell_type": "markdown",
     "metadata": {},
     "source": [
      "### 1. Introduction\n",
      "\n",
      "- `Python` is a general purpose, high level language.\n",
      "- It is dynamically typed and interpretered language.\n",
      "\n",
      "#### 1.1 Getting Started\n",
      "\n",
      "- Python runs mostly on all modern operating systems.\n",
      "- Windows - http://docs.python-guide.org/en/latest/starting/install/win/\n",
      "- GNU/Linux - http://docs.python-guide.org/en/latest/starting/install/linux/\n",
      "- Mac OSX - http://docs.python-guide.org/en/latest/starting/install/osx/\n",
      "\n",
      "#### 1.2 Python Interpreter \n",
      "\n",
      "- Type `python` in the `Command Prompt` or `Terminal`. The output should look like\n",
      "\n",
      "```bash\n",
      "\u279c  learnpythoninminutes  python\n",
      "Python 2.7.5 (default, Mar  9 2014, 22:15:05)\n",
      "[GCC 4.2.1 Compatible Apple LLVM 5.0 (clang-500.0.68)] on darwin\n",
      "Type \"help\", \"copyright\", \"credits\" or \"license\" for more information.\n",
      ">>>\n",
      "```\n",
      "\n",
      "- `Command` takes you to `Python Interactive Shell`. The important thing to note here is `Python 2.7.5` which says `python version` installed in the machine. All the tutorial will focus on `Python 2.7.x`. \n",
      "\n",
      "#### 1.3 Using Python Interpreter\n",
      "\n",
      "```python\n",
      ">>> print(\"Welcome to learn python in minutes tutorial\")\n",
      "Welcome to learn python in minutes tutorial\n",
      ">>> place = \"Bangalore\"\n",
      ">>> duration = 180 # Duration in minutes. This is a comment!\n",
      ">>> author = \"Kracekumar\"\n",
      ">>> print(\"Welcome to learn python in minutes tutorial by %s for %d minutes in %s\" % (author, duration, place))\n",
      "Welcome to learn python in minutes tutorial by Kracekumar for 180 minutes in Bangalore\n",
      "```\n",
      "\n",
      "- `>>>` indicates we are inside Python interpreter.\n",
      "- Interpreter reads everyline, evaluates and returns result if any.\n",
      "- `place = \"Bangalore\"` is variable. Left hand side of `=` is the name of the variable and right hand side is the value.\n",
      "- No need to give what is the type of the variable.\n",
      "- `print()` is function which prints result to `standard output`, here it is Python Interpreter.\n",
      "- `duration = 180` is a variable which stores `int` value.\n",
      "- `%s, %d` are format specifiers like `C`.\n",
      "\n",
      "\n",
      "#### 1.4 Numbers\n",
      "\n",
      "- `Python` has very good support for number crunching.\n",
      "\n",
      "```python\n",
      ">>> duration_in_mins = 180\n",
      ">>> duration_in_mins / 60 # Hours, in int\n",
      "3\n",
      ">>> duration_in_mins / 60.0 # Hours, in float\n",
      "3.0\n",
      ">>> duration_in_mins * 60 # In seconds\n",
      "10800\n",
      ">>> 12 + 23 # Simple add\n",
      "35\n",
      ">>> 12 - 23 # Subtraction\n",
      "-11\n",
      ">>> 12 / 23 # Division\n",
      "0\n",
      ">>> 12 / 23.0 # Note the denominator\n",
      "0.5217391304347826\n",
      ">>> 12 * 23.0 # multiply\n",
      "276.0\n",
      ">>> 3 % 2 # Modulo\n",
      "1\n",
      ">>> 12 ** 23.0 # 12 power of 23\n",
      "6.624737266949237e+24 # When number is too large scientif notation is used\n",
      ">>> 12 ** 12\n",
      "8916100448256\n",
      ">>> 12 ** 18\n",
      "26623333280885243904L # `L` at the end says it is a long number.\n",
      ">>> 12 + 20 * 2 - 4 * 2 / 2.0\n",
      "48.0\n",
      ">>> 12 + (20 * 2) - 4 * (2 / 2.0) \n",
      "48.0\n",
      ">>> 12 + (20 * 2) - (4 * 2 ) / 2.0\n",
      "48.0\n",
      "```\n",
      "\n",
      "- While dividing two numbers if both are `int` result will be `int` else `float`.\n",
      "\n",
      "Let's see how expression are handled without brackets.\n",
      "```\n",
      "12 + 20 * 2 - 4 * 2 / 2.0\n",
      "    12 + 40 - 4 * 2 / 2.0\n",
      "        52 - 4 * 2 / 2.0\n",
      "            52 - 4 * 1.0\n",
      "                52 - 4.0\n",
      "                    48.0\n",
      "```\n",
      "- Expression is evaluated from `Left -> Right`. `BODMAS (Bracket Of Division Multiplication)` rule is followed while evaluating expression.\n",
      "\n",
      "\n",
      "#### 1.5 More about variables\n",
      "\n",
      "- It is possible to create multiple variable in same line.\n",
      "\n",
      "```python\n",
      ">>> a, b = 12, 23 # Multiple declartion\n",
      ">>> print(a, b)\n",
      "(12, 23)\n",
      ">>> b, a = a, b\n",
      ">>> print a, b\n",
      "23 12\n",
      "```\n",
      "\n",
      "- Woot! We swapped two numbers without intermediate variable.\n",
      "\n",
      "\n",
      "#### 1.6 Summary\n",
      "\n",
      "- `a = 23` creates a new variable, no need to mention value `type`.\n",
      "- No need to use `bracket` while evaluating expression unless explict perference is needed.\n",
      "- Python automatically rounds off number during division if both the numbers are `int`.\n"
     ]
    },
    {
     "cell_type": "markdown",
     "metadata": {},
     "source": [
      "#### 2. String\n",
      "\n",
      "- `single quote ('python') or double quote (\"python\") or triple single/double quotes` can be used to create a new string.\n",
      "- `strings` are immutable data type."
     ]
    },
    {
     "cell_type": "markdown",
     "metadata": {},
     "source": [
      "#### 2.1 String Interpolation"
     ]
    },
    {
     "cell_type": "code",
     "collapsed": false,
     "input": [
      "author = 'Kracekumar'\n",
      "one_liner_about_python = \"Python is simple and powerful language\"\n",
      "description = \"\"\"Python is a general purpose, high level language.\n",
      "It is dynamically typed and interpretered language.\n",
      "\"\"\"\n",
      "\n",
      "print(author)\n",
      "print(one_liner_about_python)\n",
      "print(description)\n",
      "\n",
      "complete_msg = \"\"\"Author: {}\n",
      "One liner about Python:\n",
      "- {}\n",
      "Long Description:\n",
      "{}\"\"\".format(author, one_liner_about_python, description)\n",
      "print(complete_msg)"
     ],
     "language": "python",
     "metadata": {},
     "outputs": [
      {
       "output_type": "stream",
       "stream": "stdout",
       "text": [
        "Kracekumar\n",
        "Python is simple and powerful language\n",
        "Python is a general purpose, high level language.\n",
        "It is dynamically typed and interpretered language.\n",
        "\n",
        "Author: Kracekumar\n",
        "One liner about Python:\n",
        "- Python is simple and powerful language\n",
        "Long Description:\n",
        "Python is a general purpose, high level language.\n",
        "It is dynamically typed and interpretered language.\n",
        "\n"
       ]
      }
     ],
     "prompt_number": 3
    },
    {
     "cell_type": "markdown",
     "metadata": {},
     "source": [
      "#### 2.2 Methods\n",
      "\n",
      "- Everything is an object in Python.\n",
      "- `string` has lot of methods like `upper`, `lower`, `strip` etc .."
     ]
    },
    {
     "cell_type": "code",
     "collapsed": false,
     "input": [
      "print(\"lower\".upper())\n",
      "print(\"upper\".lower())\n",
      "print(\"captialize\".capitalize())\n",
      "print(\" extra spaces \".strip()) # Very useful in web development while cleaning user input\n",
      "print(\"find a word's position in the sentence\".find('word')) # returns starting position\n",
      "print(\"how many times the letter `e` is present in the sentence\".count('e'))\n",
      "print(\"Replace delete with remove\".replace('delete', 'remove'))\n",
      "print(\"Python is simple and powerful language\".startswith('Python'))"
     ],
     "language": "python",
     "metadata": {},
     "outputs": [
      {
       "output_type": "stream",
       "stream": "stdout",
       "text": [
        "LOWER\n",
        "upper\n",
        "Captialize\n",
        "extra spaces\n",
        "7\n",
        "11\n",
        "Replace remove with remove\n",
        "True\n"
       ]
      }
     ],
     "prompt_number": 6
    },
    {
     "cell_type": "markdown",
     "metadata": {},
     "source": [
      "#### 2.3 Accessing characters in string\n"
     ]
    },
    {
     "cell_type": "code",
     "collapsed": false,
     "input": [
      "language = 'python'\n",
      "# Print first character\n",
      "print(language[0])\n",
      "# print last character\n",
      "print(language[-1])\n",
      "# Find length f the string\n",
      "print(len(language)) # builtin function\n",
      "# Print first 3 characters\n",
      "print(language[0:2]) # Slicing `0` is starting index and `2` is last index\n",
      "# print last three characters\n",
      "print(language[-3:])\n",
      "# Add a dot after python\n",
      "\n",
      "language = language + \".\" # Here new variable is created\n",
      "print(language)"
     ],
     "language": "python",
     "metadata": {},
     "outputs": [
      {
       "output_type": "stream",
       "stream": "stdout",
       "text": [
        "p\n",
        "n\n",
        "6\n",
        "py\n",
        "hon\n",
        "python.\n"
       ]
      }
     ],
     "prompt_number": 10
    },
    {
     "cell_type": "markdown",
     "metadata": {},
     "source": [
      "#### 2.4 Summary"
     ]
    },
    {
     "cell_type": "markdown",
     "metadata": {},
     "source": [
      "- `string` is immutable datatype.\n",
      "- `string` has lot of useful methods for data processing.\n",
      "- `negative index` can be used for accessing the string content from reverse direction.\n",
      "- `slicing` is used for getting partial content from the string."
     ]
    },
    {
     "cell_type": "markdown",
     "metadata": {},
     "source": [
      "### 3. Condition\n",
      "\n",
      "- `True` and `False` are Boolean values in Python. `None` is used to represent absence of a value.\n",
      "- `Python` uses `if`, `elif`, `else` for branching.\n",
      "- `==` is used to check two values are equal, `!=` is used for non equality checks."
     ]
    },
    {
     "cell_type": "markdown",
     "metadata": {},
     "source": [
      "#### 3.1 Boolean values"
     ]
    },
    {
     "cell_type": "code",
     "collapsed": false,
     "input": [
      "print(23 == 32)\n",
      "print(23 != 32)\n",
      "print(True == False)\n",
      "print(True != False)"
     ],
     "language": "python",
     "metadata": {},
     "outputs": [
      {
       "output_type": "stream",
       "stream": "stdout",
       "text": [
        "False\n",
        "True\n",
        "False\n",
        "True\n"
       ]
      }
     ],
     "prompt_number": 12
    },
    {
     "cell_type": "markdown",
     "metadata": {},
     "source": [
      "#### 3.2 Branching\n",
      "\n",
      "Write a program if a given number is divisible by `3` print `fizz`, `5` print `buzz`, divisible by both `3 and 5` print `fizz buzz` else print `nothing`. Create a new file called `fizzbuzz.py` and write the code. `python fizzbuzz.py` should execute the code."
     ]
    },
    {
     "cell_type": "markdown",
     "metadata": {},
     "source": [
      "##### Code\n",
      "\n",
      "```python\n",
      "# fizzbuzz.py\n",
      "\n",
      "number = 23\n",
      "\n",
      "print(number)\n",
      "if number % 15 == 0:\n",
      "    print(\"fizz buzz\")\n",
      "elif number % 3 == 0:\n",
      "    print(\"fizz\")\n",
      "elif number % 5 == 0:\n",
      "    print(\"buzz\")\n",
      "else:\n",
      "    print(\"nothing\")\n",
      "\n",
      "```\n",
      "\n",
      "##### Output\n",
      "\n",
      "```bash\n",
      "\n",
      "examples $ python fizzbuzz.py\n",
      "23\n",
      "nothing\n",
      "```"
     ]
    },
    {
     "cell_type": "markdown",
     "metadata": {},
     "source": [
      "#### 3.3 Few things to note\n",
      "\n",
      "- `Python` uses indentation to separate block. So use `4 spaces` or `tabs which converts to 4 spaces`. Don't mix both.\n",
      "- `:` at the end of `if, elif, else` statement."
     ]
    },
    {
     "cell_type": "markdown",
     "metadata": {},
     "source": [
      "#### 3.4 Boolean operations\n",
      "\n",
      "- `Python` uses keyword `and, or, not` for `and, or, not` operations.\n",
      "\n"
     ]
    },
    {
     "cell_type": "code",
     "collapsed": false,
     "input": [
      "print(True and False)\n",
      "print(23 and 12) # Watch for output\n",
      "print(True or False)\n",
      "print(23 or 12) # Watch for output\n",
      "print(\"python\" or \"javascript\")\n",
      "print(\"python\" and \"javascript\")\n",
      "print(not 23)\n"
     ],
     "language": "python",
     "metadata": {},
     "outputs": [
      {
       "output_type": "stream",
       "stream": "stdout",
       "text": [
        "False\n",
        "12\n",
        "True\n",
        "23\n",
        "python\n",
        "javascript\n",
        "False\n"
       ]
      }
     ],
     "prompt_number": 15
    },
    {
     "cell_type": "markdown",
     "metadata": {},
     "source": [
      "#### 3.5 Summary\n",
      "\n",
      "- `True, False` are `Boolean` values. `None` represents absence of value.\n",
      "- Logical operators are `and, or, not`. Logic operators can be used with any data type.\n",
      "- `==, !=` are comparision operators."
     ]
    },
    {
     "cell_type": "markdown",
     "metadata": {},
     "source": [
      "#### 4 List - Data Structure\n",
      "\n",
      "- `List` is collection of heterogenous data type.\n",
      "- `List` is similar to array in other languages.\n",
      "- Size of list grows over the period of the program."
     ]
    },
    {
     "cell_type": "markdown",
     "metadata": {},
     "source": [
      "#### 4.1 List in Action"
     ]
    },
    {
     "cell_type": "code",
     "collapsed": false,
     "input": [
      "collection = ['Python', 23, 45.9, True] # Collection of different elements.\n",
      "\"\"\"Representaion of list\n",
      "       ---------------------------\n",
      "       |'python'| 23 | 45.9 | True|\n",
      "       ---------------------------\n",
      "        0        1      2      3\n",
      "\n",
      "\"\"\"\n",
      "print(collection)\n",
      "# Access the first element\n",
      "print(collection[0])\n",
      "# Access the last element\n",
      "print(collection[-1])\n",
      "# Replace the first element\n",
      "collection[0] = 'Go'\n",
      "print(collection[0])\n",
      "# Add an element at the last position\n",
      "collection.append(\"last\")\n",
      "print(collection[-1])\n",
      "# Insert an element at position 2\n",
      "print(collection)\n",
      "collection.insert(2, 12)\n",
      "print(collection)\n",
      "# Delete the last element\n",
      "del collection[-1]\n",
      "print(collection)\n",
      "# Length of the list\n",
      "print(len(collection))"
     ],
     "language": "python",
     "metadata": {},
     "outputs": [
      {
       "output_type": "stream",
       "stream": "stdout",
       "text": [
        "['Python', 23, 45.9, True]\n",
        "Python\n",
        "True\n",
        "Go\n",
        "last\n",
        "['Go', 23, 45.9, True, 'last']\n",
        "['Go', 23, 12, 45.9, True, 'last']\n",
        "['Go', 23, 12, 45.9, True]\n",
        "5\n"
       ]
      }
     ],
     "prompt_number": 35
    },
    {
     "cell_type": "markdown",
     "metadata": {},
     "source": [
      "#### 4.2 Nested list\n",
      "\n",
      "- `List` can have list inside it.\n"
     ]
    },
    {
     "cell_type": "code",
     "collapsed": false,
     "input": [
      "nested_collection = [['apple', 'orange'], ['Python', 'Go']]\n",
      "print(nested_collection) # Access first element in first list\n",
      "print(nested_collection[0][0])"
     ],
     "language": "python",
     "metadata": {},
     "outputs": [
      {
       "output_type": "stream",
       "stream": "stdout",
       "text": [
        "[['apple', 'orange'], ['Python', 'Go']]\n",
        "apple\n"
       ]
      }
     ],
     "prompt_number": 65
    },
    {
     "cell_type": "markdown",
     "metadata": {},
     "source": [
      "#### 4.3 Methods\n"
     ]
    },
    {
     "cell_type": "code",
     "collapsed": false,
     "input": [
      "\n",
      "collection = ['Python', 23, 45.9, True]\n",
      "print(collection.count(23))\n",
      "print(collection.index(23)) # If not found Exception will be raised.\n",
      "print('23' in collection) # Check if an element is present in list\n",
      "print('p' in 'python') # `in` works on strings, list etc.."
     ],
     "language": "python",
     "metadata": {},
     "outputs": [
      {
       "output_type": "stream",
       "stream": "stdout",
       "text": [
        "1\n",
        "1\n",
        "False\n",
        "True\n"
       ]
      }
     ],
     "prompt_number": 23
    },
    {
     "cell_type": "markdown",
     "metadata": {},
     "source": [
      "#### 4.4 Summary\n",
      "\n",
      "- `List` is collection of hetergenous data types.\n",
      "- `List` can have nested elements.\n",
      "- `append` is used to insert the element at the end of the list.\n",
      "- `in` operator is used to check presence of an element."
     ]
    },
    {
     "cell_type": "markdown",
     "metadata": {},
     "source": [
      "#### 5.1 For loop\n",
      "\n",
      "- `for` loop can be used against data structure which is iterable like `list, string`."
     ]
    },
    {
     "cell_type": "markdown",
     "metadata": {},
     "source": [
      "#### 5.2 loop over list\n",
      "\n"
     ]
    },
    {
     "cell_type": "code",
     "collapsed": false,
     "input": [
      "for i in ['Python', 23, 45.9, True]: # During every iteration i value is replaced, `python` -> `23` -> `45.9` -> `True`\n",
      "    print(i)"
     ],
     "language": "python",
     "metadata": {},
     "outputs": [
      {
       "output_type": "stream",
       "stream": "stdout",
       "text": [
        "Python\n",
        "23\n",
        "45.9\n",
        "True\n"
       ]
      }
     ],
     "prompt_number": 29
    },
    {
     "cell_type": "code",
     "collapsed": false,
     "input": [
      "for ch in \"Python\":\n",
      "    print(ch)"
     ],
     "language": "python",
     "metadata": {},
     "outputs": [
      {
       "output_type": "stream",
       "stream": "stdout",
       "text": [
        "P\n",
        "y\n",
        "t\n",
        "h\n",
        "o\n",
        "n\n"
       ]
      }
     ],
     "prompt_number": 25
    },
    {
     "cell_type": "code",
     "collapsed": false,
     "input": [
      "for number in range(0, 10): # Produces list of numbers starting from 0 til 9, 10 is excluded.\n",
      "    if number % 2 == 0:\n",
      "        print(\"Even\")\n",
      "    else:\n",
      "        print(\"Odd\")"
     ],
     "language": "python",
     "metadata": {},
     "outputs": [
      {
       "output_type": "stream",
       "stream": "stdout",
       "text": [
        "Even\n",
        "Odd\n",
        "Even\n",
        "Odd\n",
        "Even\n",
        "Odd\n",
        "Even\n",
        "Odd\n",
        "Even\n",
        "Odd\n"
       ]
      }
     ],
     "prompt_number": 26
    },
    {
     "cell_type": "markdown",
     "metadata": {},
     "source": [
      "#### 5.3 Summary\n",
      "\n",
      "- During every iteration temporary variable holds the value in the iterable.\n",
      "- `:` at the end of the `for` statement is important.\n",
      "- Similar to `if` statement body of `for` loop is indented."
     ]
    },
    {
     "cell_type": "markdown",
     "metadata": {},
     "source": [
      "#### 6.1 Functions\n",
      "\n",
      "- `Function` is unit which may take arguments, compute and returns a value. Sometimes `function` doesn't return a value."
     ]
    },
    {
     "cell_type": "markdown",
     "metadata": {},
     "source": [
      "#### 6.2 Let's calculate\n",
      "\n"
     ]
    },
    {
     "cell_type": "code",
     "collapsed": false,
     "input": [
      "def square(x): # No need to specify type of the argument.\n",
      "    return x * x\n",
      "\n",
      "def cube(x):\n",
      "    return square(x) * x\n",
      "\n",
      "def msg(): # Function with no arguments and doesn't return any value\n",
      "    print(\"End\")\n",
      "    \n",
      "    \n",
      "print(square(2))\n",
      "print(square(23))\n",
      "msg()"
     ],
     "language": "python",
     "metadata": {},
     "outputs": [
      {
       "output_type": "stream",
       "stream": "stdout",
       "text": [
        "4\n",
        "529\n",
        "End\n"
       ]
      }
     ],
     "prompt_number": 30
    },
    {
     "cell_type": "markdown",
     "metadata": {},
     "source": [
      "#### 6.3 Default value\n"
     ]
    },
    {
     "cell_type": "code",
     "collapsed": false,
     "input": [
      "def square(x=2): # if x didn't receive any value, 2 is taken.\n",
      "    return x * x\n",
      "\n",
      "print(square(23))\n",
      "print(square(2))"
     ],
     "language": "python",
     "metadata": {},
     "outputs": [
      {
       "output_type": "stream",
       "stream": "stdout",
       "text": [
        "529\n",
        "4\n"
       ]
      }
     ],
     "prompt_number": 32
    },
    {
     "cell_type": "markdown",
     "metadata": {},
     "source": [
      "#### 6.4 Function as function argument\n",
      "\n",
      "- `Function` can take function as an argument."
     ]
    },
    {
     "cell_type": "code",
     "collapsed": false,
     "input": [
      "def fxy(f, x, y): # f(x, y) = f(x) . f(y)\n",
      "    return f(x) * f(y)\n",
      "\n",
      "def square(x):\n",
      "    return x * x\n",
      "\n",
      "print(fxy(square, 2, 3))"
     ],
     "language": "python",
     "metadata": {},
     "outputs": [
      {
       "output_type": "stream",
       "stream": "stdout",
       "text": [
        "36\n"
       ]
      }
     ],
     "prompt_number": 66
    },
    {
     "cell_type": "markdown",
     "metadata": {},
     "source": [
      "#### 6.5 Summary\n",
      "\n",
      "- `Function` is small unit of computation which may take arguments and may return values.\n",
      "- `Function` can be passed to a function as an argument.\n",
      "- `Function` body should be indented like `if` statement.\n"
     ]
    },
    {
     "cell_type": "markdown",
     "metadata": {},
     "source": [
      "#### 7.1 Builtin functions\n",
      "\n",
      "- `Python` has lot of builtin functions."
     ]
    },
    {
     "cell_type": "markdown",
     "metadata": {},
     "source": [
      "#### 7.2 Handy builtin functions\n"
     ]
    },
    {
     "cell_type": "code",
     "collapsed": false,
     "input": [
      "print(sum([1, 2, 3, 4])) # 10\n",
      "print(max([1, 2, 3, 4])) # 4\n",
      "print(min([1, 2, 3, 4])) # 1\n",
      "print(sorted([1, 2, 3, 4])) # Ascending order\n",
      "print(sorted([1, 2, 3, 4], reverse=True)) # Descending order\n",
      "print(float(23)) # Typecast into float\n",
      "print(list(\"23\")) # String -> list\n",
      "print(str(23))\n",
      "print(int('23'))\n",
      "# Find data type\n",
      "print(type(23))\n",
      "print(type([2]))\n",
      "print(type('23'))\n"
     ],
     "language": "python",
     "metadata": {},
     "outputs": [
      {
       "output_type": "stream",
       "stream": "stdout",
       "text": [
        "10\n",
        "4\n",
        "1\n",
        "[1, 2, 3, 4]\n",
        "[4, 3, 2, 1]\n",
        "23.0\n",
        "['2', '3']\n",
        "23\n",
        "23\n",
        "<type 'int'>\n",
        "<type 'list'>\n",
        "<type 'str'>\n"
       ]
      }
     ],
     "prompt_number": 44
    },
    {
     "cell_type": "markdown",
     "metadata": {},
     "source": [
      "#### 7.3 Summary\n",
      "\n",
      "- There are around 80 builtin functions, complete details is avaiable here https://docs.python.org/2/library/functions.html."
     ]
    },
    {
     "cell_type": "markdown",
     "metadata": {},
     "source": [
      "### 8.1 Classes\n",
      "\n",
      "- `class` is a template for creating objects. `Objects` contains `attributes` and `methods`.\n",
      "- `Object` is created by invoking the `constructor` or `initializer`.\n",
      "- `Attributes` and `methods` may belong to `instance` or `class`."
     ]
    },
    {
     "cell_type": "markdown",
     "metadata": {},
     "source": [
      "#### 8.2 Objects\n",
      "\n",
      "Create a `class Person` with attributes `first_name`, `last_name`, `age`. Add `full_name` and `is_major` as methods to class `Person`."
     ]
    },
    {
     "cell_type": "code",
     "collapsed": false,
     "input": [
      "class Person:\n",
      "    def __init__(self, first_name, last_name='', age=18): # self is always first argument in all instance method\n",
      "        # __init__ is initializer\n",
      "        self.first_name = first_name\n",
      "        # Instance attribute like instance method self. notation is used inside class to assign value\n",
      "        self.last_name = last_name\n",
      "        self.__age = age # Private like attribute\n",
      "        \n",
      "    def full_name(self):\n",
      "        # Instance method\n",
      "        return self.first_name + ' ' + self.last_name\n",
      "    \n",
      "    def get_age(self):\n",
      "        # Since __age is private like variable we need to have getters and setters. Getter\n",
      "        return self.__age\n",
      "    \n",
      "    def set_age(self, age):\n",
      "        # Setter\n",
      "        self.__age = age\n",
      "    \n",
      "    def is_major(self):\n",
      "        return self.__age >= 18\n",
      "    \n",
      "\n",
      "guido = Person(\"Guido\", \"van rossum\", 58) # __init__ of Person is called\n",
      "krace = Person(\"Kracekumar\", \"Ramaraju\", 24)\n",
      "# Access instance first_name, last_name\n",
      "print(guido.first_name)\n",
      "print(guido.last_name)\n",
      "print(krace.first_name)\n",
      "print(krace.last_name)\n",
      "# Access instance methods\n",
      "print(guido.full_name()) # self is passed implicitly in the background.\n",
      "print(krace.is_major())\n",
      "\n",
      "# Modif the age, first_name\n",
      "krace.set_age(12)\n",
      "krace.first_name = 'kracekumar'\n",
      "print(krace.get_age(), krace.first_name)\n",
      "print(krace.is_major())"
     ],
     "language": "python",
     "metadata": {},
     "outputs": [
      {
       "output_type": "stream",
       "stream": "stdout",
       "text": [
        "Guido\n",
        "van rossum\n",
        "Kracekumar\n",
        "Ramaraju\n",
        "Guido van rossum\n",
        "True\n",
        "(12, 'kracekumar')\n",
        "False\n"
       ]
      }
     ],
     "prompt_number": 61
    },
    {
     "cell_type": "markdown",
     "metadata": {},
     "source": [
      "#### 8.3 Summary\n",
      "\n",
      "- `__init__` is initializer in Python.\n",
      "- `self` is passed as first argument in method.\n",
      "- Attributes starting `__` are unaccessible with `.` notation . \n"
     ]
    },
    {
     "cell_type": "markdown",
     "metadata": {},
     "source": [
      "### 9.1 Dictionary\n",
      "\n",
      "- `Dictionary` is `Hash Map or Associative Array` in other programming languages.\n",
      "- Every entry in dictionary consist of `Key, Value` pair."
     ]
    },
    {
     "cell_type": "markdown",
     "metadata": {},
     "source": [
      "#### 9.2 Examples\n"
     ]
    },
    {
     "cell_type": "code",
     "collapsed": false,
     "input": [
      "months = {'jan': 31, 'feb': 28, 'mar': 31, 'apr': 30} # Colon is used to separate key and value\n",
      "\n",
      "# `jan` is key and `31` is value\n",
      "\"\"\" Visual representation of Dictionary\n",
      "-----------\n",
      "|Key|Value|\n",
      "-----------\n",
      "|jan|31   |\n",
      "-----------\n",
      "|feb|28   |\n",
      "-----------\n",
      "|mar|31   |\n",
      "-----------\n",
      "|apr|30   |\n",
      "-----------\n",
      "\"\"\"\n",
      "print(months) # Dictionary don't maintain the order of insertion. \n",
      "print(months['jan']) # Values in dictionary are accessed using key, in list index is used.\n",
      "print(months.get('jan')) # .get returns None if the key is missing\n",
      "print('dec' in months) # `in` is used to check presence of key in dictionary.\n",
      "print(len(months)) # len function is used to find total key, value pair in dictionary.\n",
      "for key, value in months.items(): # .items() returns two values during every iteration. First is key, second is value\n",
      "    print(key, '->', value)\n",
      "months['feb'] = 29 # Leap year! if key is already present value will be replaced else key, value pair will be added.\n",
      "print(months)\n",
      "months['dec'] = 31\n",
      "print(months)"
     ],
     "language": "python",
     "metadata": {},
     "outputs": [
      {
       "output_type": "stream",
       "stream": "stdout",
       "text": [
        "{'jan': 31, 'apr': 30, 'mar': 31, 'feb': 28}\n",
        "31\n",
        "31\n",
        "False\n",
        "4\n",
        "('jan', '->', 31)\n",
        "('apr', '->', 30)\n",
        "('mar', '->', 31)\n",
        "('feb', '->', 28)\n",
        "{'jan': 31, 'apr': 30, 'mar': 31, 'feb': 29}\n",
        "{'jan': 31, 'apr': 30, 'dec': 31, 'mar': 31, 'feb': 29}\n"
       ]
      }
     ],
     "prompt_number": 54
    },
    {
     "cell_type": "markdown",
     "metadata": {},
     "source": [
      "#### 9.3  Use case\n",
      "\n",
      "- `Dictionary` is used when representation is key, value pair like `monthly sales, student marks stored subject wise`.\n",
      "- `Dictionary` lookup takes constant time.\n"
     ]
    },
    {
     "cell_type": "markdown",
     "metadata": {},
     "source": [
      "#### 9.4 Summary\n",
      "\n",
      "- `Dictionary` doesn't maintain the key, value pair order.\n",
      "- `.get()` method is used to value of the key in dictionary. If `key` is missing `None` is returned."
     ]
    },
    {
     "cell_type": "markdown",
     "metadata": {},
     "source": [
      "#### 10.1 Exceptions\n",
      "\n",
      "- When something goes unexpected interpreter raises `Exception` like dividing by zero, accessing the missing array index.\n",
      "- `Exceptions` can be caught and acted accordingly."
     ]
    },
    {
     "cell_type": "markdown",
     "metadata": {},
     "source": [
      "#### 10.2 try"
     ]
    },
    {
     "cell_type": "code",
     "collapsed": false,
     "input": [
      "l = [1, 2, 3]\n",
      "print(l[5]) # This raises IndexError since list only contains 3 elements.\n"
     ],
     "language": "python",
     "metadata": {},
     "outputs": [
      {
       "ename": "IndexError",
       "evalue": "list index out of range",
       "output_type": "pyerr",
       "traceback": [
        "\u001b[0;31m---------------------------------------------------------------------------\u001b[0m\n\u001b[0;31mIndexError\u001b[0m                                Traceback (most recent call last)",
        "\u001b[0;32m<ipython-input-56-5e770730b19a>\u001b[0m in \u001b[0;36m<module>\u001b[0;34m()\u001b[0m\n\u001b[1;32m      1\u001b[0m \u001b[0ml\u001b[0m \u001b[0;34m=\u001b[0m \u001b[0;34m[\u001b[0m\u001b[0;36m1\u001b[0m\u001b[0;34m,\u001b[0m \u001b[0;36m2\u001b[0m\u001b[0;34m,\u001b[0m \u001b[0;36m3\u001b[0m\u001b[0;34m]\u001b[0m\u001b[0;34m\u001b[0m\u001b[0m\n\u001b[0;32m----> 2\u001b[0;31m \u001b[0;32mprint\u001b[0m\u001b[0;34m(\u001b[0m\u001b[0ml\u001b[0m\u001b[0;34m[\u001b[0m\u001b[0;36m5\u001b[0m\u001b[0;34m]\u001b[0m\u001b[0;34m)\u001b[0m \u001b[0;31m# This raises IndexError since list only contains 3 elements.\u001b[0m\u001b[0;34m\u001b[0m\u001b[0m\n\u001b[0m",
        "\u001b[0;31mIndexError\u001b[0m: list index out of range"
       ]
      }
     ],
     "prompt_number": 56
    },
    {
     "cell_type": "code",
     "collapsed": false,
     "input": [
      "d = {'a': 1}\n",
      "print(d['b']) # Raises KeyError"
     ],
     "language": "python",
     "metadata": {},
     "outputs": [
      {
       "ename": "KeyError",
       "evalue": "'b'",
       "output_type": "pyerr",
       "traceback": [
        "\u001b[0;31m---------------------------------------------------------------------------\u001b[0m\n\u001b[0;31mKeyError\u001b[0m                                  Traceback (most recent call last)",
        "\u001b[0;32m<ipython-input-57-945bd7e85bd3>\u001b[0m in \u001b[0;36m<module>\u001b[0;34m()\u001b[0m\n\u001b[1;32m      1\u001b[0m \u001b[0md\u001b[0m \u001b[0;34m=\u001b[0m \u001b[0;34m{\u001b[0m\u001b[0;34m'a'\u001b[0m\u001b[0;34m:\u001b[0m \u001b[0;36m1\u001b[0m\u001b[0;34m}\u001b[0m\u001b[0;34m\u001b[0m\u001b[0m\n\u001b[0;32m----> 2\u001b[0;31m \u001b[0;32mprint\u001b[0m\u001b[0;34m(\u001b[0m\u001b[0md\u001b[0m\u001b[0;34m[\u001b[0m\u001b[0;34m'b'\u001b[0m\u001b[0;34m]\u001b[0m\u001b[0;34m)\u001b[0m \u001b[0;31m# Raises KeyError\u001b[0m\u001b[0;34m\u001b[0m\u001b[0m\n\u001b[0m",
        "\u001b[0;31mKeyError\u001b[0m: 'b'"
       ]
      }
     ],
     "prompt_number": 57
    },
    {
     "cell_type": "markdown",
     "metadata": {},
     "source": [
      "#### 10.3 catch"
     ]
    },
    {
     "cell_type": "code",
     "collapsed": false,
     "input": [
      "try:\n",
      "    l = [1, 2, 3]\n",
      "    print(l[5])\n",
      "except IndexError as e:\n",
      "    print(e)"
     ],
     "language": "python",
     "metadata": {},
     "outputs": [
      {
       "output_type": "stream",
       "stream": "stdout",
       "text": [
        "list index out of range\n"
       ]
      }
     ],
     "prompt_number": 64
    },
    {
     "cell_type": "code",
     "collapsed": false,
     "input": [
      "try:\n",
      "    d = {'a': 1}\n",
      "    print(d['b'])\n",
      "except KeyError as e:\n",
      "    print(e)"
     ],
     "language": "python",
     "metadata": {},
     "outputs": [
      {
       "output_type": "stream",
       "stream": "stdout",
       "text": [
        "'b'\n"
       ]
      }
     ],
     "prompt_number": 59
    },
    {
     "cell_type": "code",
     "collapsed": false,
     "input": [
      "#### 10.4 Catch all\n",
      "\n",
      "try:\n",
      "    l = [1, 3, 3]\n",
      "    d = {'a': 1}\n",
      "    print(l[5], d['a'])\n",
      "except (IndexError, KeyError) as e:\n",
      "    print(e)\n",
      "finally:\n",
      "    print(\"end\")"
     ],
     "language": "python",
     "metadata": {},
     "outputs": [
      {
       "output_type": "stream",
       "stream": "stdout",
       "text": [
        "list index out of range\n",
        "end\n"
       ]
      }
     ],
     "prompt_number": 62
    },
    {
     "cell_type": "markdown",
     "metadata": {},
     "source": [
      "#### 10.4 Summary\n",
      "\n",
      "- `try, except, finally` are three exception handling blocks.\n",
      "- `except` can catch more than one `Exception` type."
     ]
    },
    {
     "cell_type": "markdown",
     "metadata": {},
     "source": [
      "### 11.1 More Resources\n",
      "\n",
      "- Learn Python HardWay - http://learnpythonthehardway.org/\n",
      "- Build your search engine - https://www.udacity.com/course/cs101\n",
      "- Official Docs: https://docs.python.org/2/\n",
      "\n",
      "#### 11.2 Contact\n",
      "\n",
      "- Email: me@kracekumar.com\n",
      "- Twitter: https://twitter.com/kracetheking\n"
     ]
    },
    {
     "cell_type": "code",
     "collapsed": false,
     "input": [],
     "language": "python",
     "metadata": {},
     "outputs": []
    }
   ],
   "metadata": {}
  }
 ]
}